{
 "cells": [
  {
   "cell_type": "code",
   "execution_count": 2,
   "id": "a25d7d74-2ee5-4e87-aec6-5ef0f708173c",
   "metadata": {},
   "outputs": [],
   "source": [
    "import pandas as pd\n",
    "from datetime import datetime as dt\n",
    "from datetime import timedelta\n",
    "import re\n",
    "import numpy as np\n",
    "import matplotlib.pyplot as plt\n",
    "import seaborn as sns\n",
    "import os\n",
    "import statsmodels.api as sm\n",
    "import statsmodels.formula.api as smf\n",
    "from scipy.stats import poisson\n",
    "from scipy.stats import chi2"
   ]
  },
  {
   "cell_type": "code",
   "execution_count": 3,
   "id": "6a8b0a42-cf11-4741-b2fc-2ba535dfae23",
   "metadata": {},
   "outputs": [],
   "source": [
    "pd.set_option('mode.chained_assignment', None, 'display.float_format', lambda x: '%.2f' % x)\n",
    "pd.options.mode.copy_on_write = True"
   ]
  },
  {
   "cell_type": "code",
   "execution_count": 4,
   "id": "f140d00b-56b2-4018-aadb-6cb85c61c557",
   "metadata": {},
   "outputs": [
    {
     "name": "stdout",
     "output_type": "stream",
     "text": [
      "Current working directory is C:\\Users\\cavin\\Documents\\NSS_Projects\\ACCR-project-clj\\accre-carbonara\\notebooks\n"
     ]
    }
   ],
   "source": [
    "print(f'Current working directory is {os.getcwd()}')"
   ]
  },
  {
   "cell_type": "code",
   "execution_count": 5,
   "id": "04fb39b0-4d57-47e9-bcae-d04607bd8b2e",
   "metadata": {},
   "outputs": [],
   "source": [
    "reg_df = pd.read_csv('../data/reg_df.csv')"
   ]
  },
  {
   "cell_type": "code",
   "execution_count": 6,
   "id": "e4d44d44-9d4a-4763-85bf-dbb6f58b246b",
   "metadata": {},
   "outputs": [],
   "source": [
    "reg_df['time'] = pd.to_datetime(reg_df['time'])"
   ]
  },
  {
   "cell_type": "code",
   "execution_count": 7,
   "id": "15486596-990e-4a92-972f-311200151fb4",
   "metadata": {},
   "outputs": [],
   "source": [
    "reg_df.insert(0, 'date', reg_df['time'].dt.date)"
   ]
  },
  {
   "cell_type": "code",
   "execution_count": 8,
   "id": "5cd14657-a934-4fd6-93c4-8773be34cbc5",
   "metadata": {},
   "outputs": [
    {
     "data": {
      "text/html": [
       "<div>\n",
       "<style scoped>\n",
       "    .dataframe tbody tr th:only-of-type {\n",
       "        vertical-align: middle;\n",
       "    }\n",
       "\n",
       "    .dataframe tbody tr th {\n",
       "        vertical-align: top;\n",
       "    }\n",
       "\n",
       "    .dataframe thead th {\n",
       "        text-align: right;\n",
       "    }\n",
       "</style>\n",
       "<table border=\"1\" class=\"dataframe\">\n",
       "  <thead>\n",
       "    <tr style=\"text-align: right;\">\n",
       "      <th></th>\n",
       "      <th>date</th>\n",
       "      <th>time</th>\n",
       "      <th>slurm_crashes</th>\n",
       "      <th>completed_jobs</th>\n",
       "      <th>used_mem</th>\n",
       "      <th>fails</th>\n",
       "    </tr>\n",
       "  </thead>\n",
       "  <tbody>\n",
       "    <tr>\n",
       "      <th>0</th>\n",
       "      <td>2020-10-01</td>\n",
       "      <td>2020-10-01 00:10:00</td>\n",
       "      <td>0</td>\n",
       "      <td>3</td>\n",
       "      <td>363.32</td>\n",
       "      <td>0</td>\n",
       "    </tr>\n",
       "    <tr>\n",
       "      <th>1</th>\n",
       "      <td>2020-10-01</td>\n",
       "      <td>2020-10-01 00:15:00</td>\n",
       "      <td>0</td>\n",
       "      <td>3</td>\n",
       "      <td>489.28</td>\n",
       "      <td>0</td>\n",
       "    </tr>\n",
       "    <tr>\n",
       "      <th>2</th>\n",
       "      <td>2020-10-01</td>\n",
       "      <td>2020-10-01 00:20:00</td>\n",
       "      <td>0</td>\n",
       "      <td>9</td>\n",
       "      <td>6.23</td>\n",
       "      <td>0</td>\n",
       "    </tr>\n",
       "    <tr>\n",
       "      <th>3</th>\n",
       "      <td>2020-10-01</td>\n",
       "      <td>2020-10-01 00:25:00</td>\n",
       "      <td>0</td>\n",
       "      <td>18</td>\n",
       "      <td>77.65</td>\n",
       "      <td>0</td>\n",
       "    </tr>\n",
       "    <tr>\n",
       "      <th>4</th>\n",
       "      <td>2020-10-01</td>\n",
       "      <td>2020-10-01 00:30:00</td>\n",
       "      <td>0</td>\n",
       "      <td>11</td>\n",
       "      <td>6.23</td>\n",
       "      <td>0</td>\n",
       "    </tr>\n",
       "    <tr>\n",
       "      <th>...</th>\n",
       "      <td>...</td>\n",
       "      <td>...</td>\n",
       "      <td>...</td>\n",
       "      <td>...</td>\n",
       "      <td>...</td>\n",
       "      <td>...</td>\n",
       "    </tr>\n",
       "    <tr>\n",
       "      <th>105489</th>\n",
       "      <td>2021-10-07</td>\n",
       "      <td>2021-10-07 20:10:00</td>\n",
       "      <td>0</td>\n",
       "      <td>1</td>\n",
       "      <td>0.09</td>\n",
       "      <td>0</td>\n",
       "    </tr>\n",
       "    <tr>\n",
       "      <th>105490</th>\n",
       "      <td>2021-10-07</td>\n",
       "      <td>2021-10-07 20:15:00</td>\n",
       "      <td>0</td>\n",
       "      <td>1</td>\n",
       "      <td>0.09</td>\n",
       "      <td>0</td>\n",
       "    </tr>\n",
       "    <tr>\n",
       "      <th>105491</th>\n",
       "      <td>2021-10-07</td>\n",
       "      <td>2021-10-07 20:25:00</td>\n",
       "      <td>0</td>\n",
       "      <td>1</td>\n",
       "      <td>393.07</td>\n",
       "      <td>0</td>\n",
       "    </tr>\n",
       "    <tr>\n",
       "      <th>105492</th>\n",
       "      <td>2021-10-07</td>\n",
       "      <td>2021-10-07 20:30:00</td>\n",
       "      <td>0</td>\n",
       "      <td>1</td>\n",
       "      <td>0.09</td>\n",
       "      <td>0</td>\n",
       "    </tr>\n",
       "    <tr>\n",
       "      <th>105493</th>\n",
       "      <td>2021-10-07</td>\n",
       "      <td>2021-10-07 20:40:00</td>\n",
       "      <td>0</td>\n",
       "      <td>1</td>\n",
       "      <td>0.09</td>\n",
       "      <td>0</td>\n",
       "    </tr>\n",
       "  </tbody>\n",
       "</table>\n",
       "<p>105494 rows × 6 columns</p>\n",
       "</div>"
      ],
      "text/plain": [
       "              date                time  slurm_crashes  completed_jobs  \\\n",
       "0       2020-10-01 2020-10-01 00:10:00              0               3   \n",
       "1       2020-10-01 2020-10-01 00:15:00              0               3   \n",
       "2       2020-10-01 2020-10-01 00:20:00              0               9   \n",
       "3       2020-10-01 2020-10-01 00:25:00              0              18   \n",
       "4       2020-10-01 2020-10-01 00:30:00              0              11   \n",
       "...            ...                 ...            ...             ...   \n",
       "105489  2021-10-07 2021-10-07 20:10:00              0               1   \n",
       "105490  2021-10-07 2021-10-07 20:15:00              0               1   \n",
       "105491  2021-10-07 2021-10-07 20:25:00              0               1   \n",
       "105492  2021-10-07 2021-10-07 20:30:00              0               1   \n",
       "105493  2021-10-07 2021-10-07 20:40:00              0               1   \n",
       "\n",
       "        used_mem  fails  \n",
       "0         363.32      0  \n",
       "1         489.28      0  \n",
       "2           6.23      0  \n",
       "3          77.65      0  \n",
       "4           6.23      0  \n",
       "...          ...    ...  \n",
       "105489      0.09      0  \n",
       "105490      0.09      0  \n",
       "105491    393.07      0  \n",
       "105492      0.09      0  \n",
       "105493      0.09      0  \n",
       "\n",
       "[105494 rows x 6 columns]"
      ]
     },
     "execution_count": 8,
     "metadata": {},
     "output_type": "execute_result"
    }
   ],
   "source": [
    "reg_df"
   ]
  },
  {
   "cell_type": "code",
   "execution_count": 9,
   "id": "a1802df1-f1dc-4d04-8497-861167962f14",
   "metadata": {},
   "outputs": [],
   "source": [
    "# Fitting data for a poisson distribution\n",
    "data = np.array(reg_df['completed_jobs'])\n",
    "\n",
    "# calaculate mean\n",
    "lambda_mean = np.mean(data)\n",
    "\n",
    "# fit the parameters\n",
    "poisson_dist = poisson(mu=lambda_mean)"
   ]
  },
  {
   "cell_type": "code",
   "execution_count": 35,
   "id": "83e75394-ab35-45af-b829-d83dc9f7ba70",
   "metadata": {},
   "outputs": [
    {
     "name": "stdout",
     "output_type": "stream",
     "text": [
      "0.043603645926037056\n"
     ]
    }
   ],
   "source": [
    "prob = 73\n",
    "print(poisson_dist.pmf(prob))"
   ]
  },
  {
   "cell_type": "code",
   "execution_count": 11,
   "id": "dff71cd7-bba6-47f3-b232-81e4a0f44103",
   "metadata": {},
   "outputs": [],
   "source": [
    "x_values = range(reg_df['completed_jobs'].max())"
   ]
  },
  {
   "cell_type": "code",
   "execution_count": 12,
   "id": "be6219b7-f894-40b5-91c1-d1a3e221842d",
   "metadata": {},
   "outputs": [],
   "source": [
    "poisson_probs = [poisson.pmf(x, lambda_mean) for x in x_values]"
   ]
  },
  {
   "cell_type": "code",
   "execution_count": 39,
   "id": "fd8455bb-3c80-4808-8514-0ba42c31ec78",
   "metadata": {},
   "outputs": [
    {
     "data": {
      "image/png": "[encoded data removed]",
      "text/plain": [
       "<Figure size 640x480 with 1 Axes>"
      ]
     },
     "metadata": {},
     "output_type": "display_data"
    }
   ],
   "source": [
    "plt.bar(x_values, poisson_probs)\n",
    "plt.xlabel('Completed Jobs')\n",
    "# plt.xticks(range(len(reg_df['completed_jobs'])))\n",
    "plt.ylabel('Probability')\n",
    "plt.title('Poisson Distribution of Completed Jobs every 5 minutes')\n",
    "plt.xlim(0, 120)\n",
    "# plt.savefig('../images/poisson_compjobs.png', dpi = 150)\n",
    "plt.show();"
   ]
  },
  {
   "cell_type": "code",
   "execution_count": 49,
   "id": "9d26428f-e92a-4b26-a699-5a89219383ff",
   "metadata": {},
   "outputs": [
    {
     "data": {
      "text/html": [
       "<div>\n",
       "<style scoped>\n",
       "    .dataframe tbody tr th:only-of-type {\n",
       "        vertical-align: middle;\n",
       "    }\n",
       "\n",
       "    .dataframe tbody tr th {\n",
       "        vertical-align: top;\n",
       "    }\n",
       "\n",
       "    .dataframe thead th {\n",
       "        text-align: right;\n",
       "    }\n",
       "</style>\n",
       "<table border=\"1\" class=\"dataframe\">\n",
       "  <thead>\n",
       "    <tr style=\"text-align: right;\">\n",
       "      <th></th>\n",
       "      <th>date</th>\n",
       "      <th>slurm_crashes</th>\n",
       "      <th>completed_jobs</th>\n",
       "      <th>used_mem</th>\n",
       "    </tr>\n",
       "  </thead>\n",
       "  <tbody>\n",
       "    <tr>\n",
       "      <th>0</th>\n",
       "      <td>2020-10-25</td>\n",
       "      <td>0</td>\n",
       "      <td>419.50</td>\n",
       "      <td>1498.02</td>\n",
       "    </tr>\n",
       "    <tr>\n",
       "      <th>1</th>\n",
       "      <td>2021-08-11</td>\n",
       "      <td>1</td>\n",
       "      <td>189.00</td>\n",
       "      <td>2914.14</td>\n",
       "    </tr>\n",
       "    <tr>\n",
       "      <th>2</th>\n",
       "      <td>2021-09-20</td>\n",
       "      <td>1</td>\n",
       "      <td>188.00</td>\n",
       "      <td>3047.40</td>\n",
       "    </tr>\n",
       "    <tr>\n",
       "      <th>3</th>\n",
       "      <td>2021-08-23</td>\n",
       "      <td>0</td>\n",
       "      <td>168.00</td>\n",
       "      <td>3039.05</td>\n",
       "    </tr>\n",
       "    <tr>\n",
       "      <th>4</th>\n",
       "      <td>2021-09-14</td>\n",
       "      <td>7</td>\n",
       "      <td>150.50</td>\n",
       "      <td>2113.23</td>\n",
       "    </tr>\n",
       "    <tr>\n",
       "      <th>...</th>\n",
       "      <td>...</td>\n",
       "      <td>...</td>\n",
       "      <td>...</td>\n",
       "      <td>...</td>\n",
       "    </tr>\n",
       "    <tr>\n",
       "      <th>367</th>\n",
       "      <td>2021-05-20</td>\n",
       "      <td>13</td>\n",
       "      <td>1.00</td>\n",
       "      <td>208.89</td>\n",
       "    </tr>\n",
       "    <tr>\n",
       "      <th>368</th>\n",
       "      <td>2021-05-18</td>\n",
       "      <td>52</td>\n",
       "      <td>1.00</td>\n",
       "      <td>15901.06</td>\n",
       "    </tr>\n",
       "    <tr>\n",
       "      <th>369</th>\n",
       "      <td>2021-09-18</td>\n",
       "      <td>3</td>\n",
       "      <td>1.00</td>\n",
       "      <td>5337.41</td>\n",
       "    </tr>\n",
       "    <tr>\n",
       "      <th>370</th>\n",
       "      <td>2021-09-17</td>\n",
       "      <td>0</td>\n",
       "      <td>1.00</td>\n",
       "      <td>52.78</td>\n",
       "    </tr>\n",
       "    <tr>\n",
       "      <th>371</th>\n",
       "      <td>2021-10-07</td>\n",
       "      <td>0</td>\n",
       "      <td>1.00</td>\n",
       "      <td>12990.99</td>\n",
       "    </tr>\n",
       "  </tbody>\n",
       "</table>\n",
       "<p>372 rows × 4 columns</p>\n",
       "</div>"
      ],
      "text/plain": [
       "           date  slurm_crashes  completed_jobs  used_mem\n",
       "0    2020-10-25              0          419.50   1498.02\n",
       "1    2021-08-11              1          189.00   2914.14\n",
       "2    2021-09-20              1          188.00   3047.40\n",
       "3    2021-08-23              0          168.00   3039.05\n",
       "4    2021-09-14              7          150.50   2113.23\n",
       "..          ...            ...             ...       ...\n",
       "367  2021-05-20             13            1.00    208.89\n",
       "368  2021-05-18             52            1.00  15901.06\n",
       "369  2021-09-18              3            1.00   5337.41\n",
       "370  2021-09-17              0            1.00     52.78\n",
       "371  2021-10-07              0            1.00  12990.99\n",
       "\n",
       "[372 rows x 4 columns]"
      ]
     },
     "execution_count": 49,
     "metadata": {},
     "output_type": "execute_result"
    }
   ],
   "source": [
    "(\n",
    "    reg_df\n",
    "    .groupby('date')\n",
    "    .agg(\n",
    "        {'slurm_crashes': 'sum',\n",
    "         'completed_jobs': 'median',\n",
    "         'used_mem': 'mean'}\n",
    "    )\n",
    "    .sort_values('completed_jobs', ascending=False)\n",
    "    .reset_index()\n",
    ")"
   ]
  },
  {
   "cell_type": "code",
   "execution_count": 14,
   "id": "d61137de-a077-4760-86b0-832b947333d8",
   "metadata": {},
   "outputs": [
    {
     "data": {
      "text/html": [
       "<div>\n",
       "<style scoped>\n",
       "    .dataframe tbody tr th:only-of-type {\n",
       "        vertical-align: middle;\n",
       "    }\n",
       "\n",
       "    .dataframe tbody tr th {\n",
       "        vertical-align: top;\n",
       "    }\n",
       "\n",
       "    .dataframe thead th {\n",
       "        text-align: right;\n",
       "    }\n",
       "</style>\n",
       "<table border=\"1\" class=\"dataframe\">\n",
       "  <thead>\n",
       "    <tr style=\"text-align: right;\">\n",
       "      <th></th>\n",
       "      <th>date</th>\n",
       "      <th>time</th>\n",
       "      <th>slurm_crashes</th>\n",
       "      <th>completed_jobs</th>\n",
       "      <th>used_mem</th>\n",
       "      <th>fails</th>\n",
       "    </tr>\n",
       "  </thead>\n",
       "  <tbody>\n",
       "    <tr>\n",
       "      <th>4987</th>\n",
       "      <td>2020-10-18</td>\n",
       "      <td>2020-10-18 07:45:00</td>\n",
       "      <td>3</td>\n",
       "      <td>14</td>\n",
       "      <td>1417.35</td>\n",
       "      <td>1</td>\n",
       "    </tr>\n",
       "  </tbody>\n",
       "</table>\n",
       "</div>"
      ],
      "text/plain": [
       "            date                time  slurm_crashes  completed_jobs  used_mem  \\\n",
       "4987  2020-10-18 2020-10-18 07:45:00              3              14   1417.35   \n",
       "\n",
       "      fails  \n",
       "4987      1  "
      ]
     },
     "execution_count": 14,
     "metadata": {},
     "output_type": "execute_result"
    }
   ],
   "source": [
    "reg_df[reg_df['time'] == '2020-10-18 07:45:00']"
   ]
  },
  {
   "cell_type": "code",
   "execution_count": 15,
   "id": "7e94ec32-178d-4129-b9b2-8fbeeb841828",
   "metadata": {},
   "outputs": [
    {
     "data": {
      "image/png": "[encoded data removed]",
      "text/plain": [
       "<Figure size 640x480 with 1 Axes>"
      ]
     },
     "metadata": {},
     "output_type": "display_data"
    }
   ],
   "source": [
    "reg_df.plot(x='slurm_crashes', y='completed_jobs', kind='scatter');"
   ]
  },
  {
   "cell_type": "code",
   "execution_count": 16,
   "id": "45680bd1-629b-4484-bece-2911aa2e9f8a",
   "metadata": {},
   "outputs": [
    {
     "name": "stdout",
     "output_type": "stream",
     "text": [
      "Optimization terminated successfully.\n",
      "         Current function value: 0.103913\n",
      "         Iterations 8\n"
     ]
    }
   ],
   "source": [
    "model = smf.logit('fails ~ completed_jobs',\n",
    "                    data = reg_df).fit()"
   ]
  },
  {
   "cell_type": "code",
   "execution_count": 17,
   "id": "ee809007-2b6b-450d-ba27-7d3fab93b7d6",
   "metadata": {},
   "outputs": [
    {
     "data": {
      "text/plain": [
       "Intercept        -3.80\n",
       "completed_jobs   -0.00\n",
       "dtype: float64"
      ]
     },
     "execution_count": 17,
     "metadata": {},
     "output_type": "execute_result"
    }
   ],
   "source": [
    "model.params"
   ]
  },
  {
   "cell_type": "code",
   "execution_count": 18,
   "id": "71a59256-6d53-4201-82c5-ce65a7255fe2",
   "metadata": {},
   "outputs": [
    {
     "data": {
      "text/html": [
       "<table class=\"simpletable\">\n",
       "<caption>Logit Regression Results</caption>\n",
       "<tr>\n",
       "  <th>Dep. Variable:</th>         <td>fails</td>      <th>  No. Observations:  </th>  <td>105494</td>  \n",
       "</tr>\n",
       "<tr>\n",
       "  <th>Model:</th>                 <td>Logit</td>      <th>  Df Residuals:      </th>  <td>105492</td>  \n",
       "</tr>\n",
       "<tr>\n",
       "  <th>Method:</th>                 <td>MLE</td>       <th>  Df Model:          </th>  <td>     1</td>  \n",
       "</tr>\n",
       "<tr>\n",
       "  <th>Date:</th>            <td>Tue, 03 Dec 2024</td> <th>  Pseudo R-squ.:     </th> <td>0.0001163</td>\n",
       "</tr>\n",
       "<tr>\n",
       "  <th>Time:</th>                <td>17:36:37</td>     <th>  Log-Likelihood:    </th> <td> -10962.</td> \n",
       "</tr>\n",
       "<tr>\n",
       "  <th>converged:</th>             <td>True</td>       <th>  LL-Null:           </th> <td> -10963.</td> \n",
       "</tr>\n",
       "<tr>\n",
       "  <th>Covariance Type:</th>     <td>nonrobust</td>    <th>  LLR p-value:       </th>  <td>0.1103</td>  \n",
       "</tr>\n",
       "</table>\n",
       "<table class=\"simpletable\">\n",
       "<tr>\n",
       "         <td></td>           <th>coef</th>     <th>std err</th>      <th>z</th>      <th>P>|z|</th>  <th>[0.025</th>    <th>0.975]</th>  \n",
       "</tr>\n",
       "<tr>\n",
       "  <th>Intercept</th>      <td>   -3.7976</td> <td>    0.024</td> <td> -156.001</td> <td> 0.000</td> <td>   -3.845</td> <td>   -3.750</td>\n",
       "</tr>\n",
       "<tr>\n",
       "  <th>completed_jobs</th> <td>   -0.0003</td> <td>    0.000</td> <td>   -1.553</td> <td> 0.121</td> <td>   -0.001</td> <td> 7.38e-05</td>\n",
       "</tr>\n",
       "</table>"
      ],
      "text/latex": [
       "\\begin{center}\n",
       "\\begin{tabular}{lclc}\n",
       "\\toprule\n",
       "\\textbf{Dep. Variable:}   &      fails       & \\textbf{  No. Observations:  } &   105494    \\\\\n",
       "\\textbf{Model:}           &      Logit       & \\textbf{  Df Residuals:      } &   105492    \\\\\n",
       "\\textbf{Method:}          &       MLE        & \\textbf{  Df Model:          } &        1    \\\\\n",
       "\\textbf{Date:}            & Tue, 03 Dec 2024 & \\textbf{  Pseudo R-squ.:     } & 0.0001163   \\\\\n",
       "\\textbf{Time:}            &     17:36:37     & \\textbf{  Log-Likelihood:    } &   -10962.   \\\\\n",
       "\\textbf{converged:}       &       True       & \\textbf{  LL-Null:           } &   -10963.   \\\\\n",
       "\\textbf{Covariance Type:} &    nonrobust     & \\textbf{  LLR p-value:       } &   0.1103    \\\\\n",
       "\\bottomrule\n",
       "\\end{tabular}\n",
       "\\begin{tabular}{lcccccc}\n",
       "                         & \\textbf{coef} & \\textbf{std err} & \\textbf{z} & \\textbf{P$> |$z$|$} & \\textbf{[0.025} & \\textbf{0.975]}  \\\\\n",
       "\\midrule\n",
       "\\textbf{Intercept}       &      -3.7976  &        0.024     &  -156.001  &         0.000        &       -3.845    &       -3.750     \\\\\n",
       "\\textbf{completed\\_jobs} &      -0.0003  &        0.000     &    -1.553  &         0.121        &       -0.001    &     7.38e-05     \\\\\n",
       "\\bottomrule\n",
       "\\end{tabular}\n",
       "%\\caption{Logit Regression Results}\n",
       "\\end{center}"
      ],
      "text/plain": [
       "<class 'statsmodels.iolib.summary.Summary'>\n",
       "\"\"\"\n",
       "                           Logit Regression Results                           \n",
       "==============================================================================\n",
       "Dep. Variable:                  fails   No. Observations:               105494\n",
       "Model:                          Logit   Df Residuals:                   105492\n",
       "Method:                           MLE   Df Model:                            1\n",
       "Date:                Tue, 03 Dec 2024   Pseudo R-squ.:               0.0001163\n",
       "Time:                        17:36:37   Log-Likelihood:                -10962.\n",
       "converged:                       True   LL-Null:                       -10963.\n",
       "Covariance Type:            nonrobust   LLR p-value:                    0.1103\n",
       "==================================================================================\n",
       "                     coef    std err          z      P>|z|      [0.025      0.975]\n",
       "----------------------------------------------------------------------------------\n",
       "Intercept         -3.7976      0.024   -156.001      0.000      -3.845      -3.750\n",
       "completed_jobs    -0.0003      0.000     -1.553      0.121      -0.001    7.38e-05\n",
       "==================================================================================\n",
       "\"\"\""
      ]
     },
     "execution_count": 18,
     "metadata": {},
     "output_type": "execute_result"
    }
   ],
   "source": [
    "model.summary()"
   ]
  },
  {
   "cell_type": "code",
   "execution_count": null,
   "id": "750a0f70-b165-4885-a0c3-999dc900c938",
   "metadata": {},
   "outputs": [],
   "source": []
  },
  {
   "cell_type": "code",
   "execution_count": null,
   "id": "14ec0cbc-932f-45a1-9228-a1285357c950",
   "metadata": {},
   "outputs": [],
   "source": []
  },
  {
   "cell_type": "code",
   "execution_count": null,
   "id": "eaebeb8d-8914-4495-8b92-d44cae0dbe6d",
   "metadata": {},
   "outputs": [],
   "source": []
  },
  {
   "cell_type": "code",
   "execution_count": 37,
   "id": "70a5e8de-2698-4cb7-b249-74ef33f09a18",
   "metadata": {},
   "outputs": [
    {
     "data": {
      "text/html": [
       "<table class=\"simpletable\">\n",
       "<caption>OLS Regression Results</caption>\n",
       "<tr>\n",
       "  <th>Dep. Variable:</th>     <td>completed_jobs</td>  <th>  R-squared:         </th>  <td>   0.000</td>  \n",
       "</tr>\n",
       "<tr>\n",
       "  <th>Model:</th>                   <td>OLS</td>       <th>  Adj. R-squared:    </th>  <td>   0.000</td>  \n",
       "</tr>\n",
       "<tr>\n",
       "  <th>Method:</th>             <td>Least Squares</td>  <th>  F-statistic:       </th>  <td>   6.806</td>  \n",
       "</tr>\n",
       "<tr>\n",
       "  <th>Date:</th>             <td>Tue, 03 Dec 2024</td> <th>  Prob (F-statistic):</th>   <td>0.00909</td>  \n",
       "</tr>\n",
       "<tr>\n",
       "  <th>Time:</th>                 <td>17:42:20</td>     <th>  Log-Likelihood:    </th> <td>-6.6100e+05</td>\n",
       "</tr>\n",
       "<tr>\n",
       "  <th>No. Observations:</th>      <td>105494</td>      <th>  AIC:               </th>  <td>1.322e+06</td> \n",
       "</tr>\n",
       "<tr>\n",
       "  <th>Df Residuals:</th>          <td>105492</td>      <th>  BIC:               </th>  <td>1.322e+06</td> \n",
       "</tr>\n",
       "<tr>\n",
       "  <th>Df Model:</th>              <td>     1</td>      <th>                     </th>      <td> </td>     \n",
       "</tr>\n",
       "<tr>\n",
       "  <th>Covariance Type:</th>      <td>nonrobust</td>    <th>                     </th>      <td> </td>     \n",
       "</tr>\n",
       "</table>\n",
       "<table class=\"simpletable\">\n",
       "<tr>\n",
       "        <td></td>           <th>coef</th>     <th>std err</th>      <th>t</th>      <th>P>|t|</th>  <th>[0.025</th>    <th>0.975]</th>  \n",
       "</tr>\n",
       "<tr>\n",
       "  <th>Intercept</th>     <td>   70.0357</td> <td>    0.395</td> <td>  177.304</td> <td> 0.000</td> <td>   69.261</td> <td>   70.810</td>\n",
       "</tr>\n",
       "<tr>\n",
       "  <th>slurm_crashes</th> <td>   -4.0223</td> <td>    1.542</td> <td>   -2.609</td> <td> 0.009</td> <td>   -7.044</td> <td>   -1.000</td>\n",
       "</tr>\n",
       "</table>\n",
       "<table class=\"simpletable\">\n",
       "<tr>\n",
       "  <th>Omnibus:</th>       <td>104642.806</td> <th>  Durbin-Watson:     </th>  <td>   0.477</td>  \n",
       "</tr>\n",
       "<tr>\n",
       "  <th>Prob(Omnibus):</th>   <td> 0.000</td>   <th>  Jarque-Bera (JB):  </th> <td>4980788.899</td>\n",
       "</tr>\n",
       "<tr>\n",
       "  <th>Skew:</th>            <td> 5.013</td>   <th>  Prob(JB):          </th>  <td>    0.00</td>  \n",
       "</tr>\n",
       "<tr>\n",
       "  <th>Kurtosis:</th>        <td>35.134</td>   <th>  Cond. No.          </th>  <td>    3.94</td>  \n",
       "</tr>\n",
       "</table><br/><br/>Notes:<br/>[1] Standard Errors assume that the covariance matrix of the errors is correctly specified."
      ],
      "text/latex": [
       "\\begin{center}\n",
       "\\begin{tabular}{lclc}\n",
       "\\toprule\n",
       "\\textbf{Dep. Variable:}    & completed\\_jobs  & \\textbf{  R-squared:         } &      0.000   \\\\\n",
       "\\textbf{Model:}            &       OLS        & \\textbf{  Adj. R-squared:    } &      0.000   \\\\\n",
       "\\textbf{Method:}           &  Least Squares   & \\textbf{  F-statistic:       } &      6.806   \\\\\n",
       "\\textbf{Date:}             & Tue, 03 Dec 2024 & \\textbf{  Prob (F-statistic):} &   0.00909    \\\\\n",
       "\\textbf{Time:}             &     17:42:20     & \\textbf{  Log-Likelihood:    } & -6.6100e+05  \\\\\n",
       "\\textbf{No. Observations:} &      105494      & \\textbf{  AIC:               } &  1.322e+06   \\\\\n",
       "\\textbf{Df Residuals:}     &      105492      & \\textbf{  BIC:               } &  1.322e+06   \\\\\n",
       "\\textbf{Df Model:}         &           1      & \\textbf{                     } &              \\\\\n",
       "\\textbf{Covariance Type:}  &    nonrobust     & \\textbf{                     } &              \\\\\n",
       "\\bottomrule\n",
       "\\end{tabular}\n",
       "\\begin{tabular}{lcccccc}\n",
       "                        & \\textbf{coef} & \\textbf{std err} & \\textbf{t} & \\textbf{P$> |$t$|$} & \\textbf{[0.025} & \\textbf{0.975]}  \\\\\n",
       "\\midrule\n",
       "\\textbf{Intercept}      &      70.0357  &        0.395     &   177.304  &         0.000        &       69.261    &       70.810     \\\\\n",
       "\\textbf{slurm\\_crashes} &      -4.0223  &        1.542     &    -2.609  &         0.009        &       -7.044    &       -1.000     \\\\\n",
       "\\bottomrule\n",
       "\\end{tabular}\n",
       "\\begin{tabular}{lclc}\n",
       "\\textbf{Omnibus:}       & 104642.806 & \\textbf{  Durbin-Watson:     } &      0.477   \\\\\n",
       "\\textbf{Prob(Omnibus):} &    0.000   & \\textbf{  Jarque-Bera (JB):  } & 4980788.899  \\\\\n",
       "\\textbf{Skew:}          &    5.013   & \\textbf{  Prob(JB):          } &       0.00   \\\\\n",
       "\\textbf{Kurtosis:}      &   35.134   & \\textbf{  Cond. No.          } &       3.94   \\\\\n",
       "\\bottomrule\n",
       "\\end{tabular}\n",
       "%\\caption{OLS Regression Results}\n",
       "\\end{center}\n",
       "\n",
       "Notes: \\newline\n",
       " [1] Standard Errors assume that the covariance matrix of the errors is correctly specified."
      ],
      "text/plain": [
       "<class 'statsmodels.iolib.summary.Summary'>\n",
       "\"\"\"\n",
       "                            OLS Regression Results                            \n",
       "==============================================================================\n",
       "Dep. Variable:         completed_jobs   R-squared:                       0.000\n",
       "Model:                            OLS   Adj. R-squared:                  0.000\n",
       "Method:                 Least Squares   F-statistic:                     6.806\n",
       "Date:                Tue, 03 Dec 2024   Prob (F-statistic):            0.00909\n",
       "Time:                        17:42:20   Log-Likelihood:            -6.6100e+05\n",
       "No. Observations:              105494   AIC:                         1.322e+06\n",
       "Df Residuals:                  105492   BIC:                         1.322e+06\n",
       "Df Model:                           1                                         \n",
       "Covariance Type:            nonrobust                                         \n",
       "=================================================================================\n",
       "                    coef    std err          t      P>|t|      [0.025      0.975]\n",
       "---------------------------------------------------------------------------------\n",
       "Intercept        70.0357      0.395    177.304      0.000      69.261      70.810\n",
       "slurm_crashes    -4.0223      1.542     -2.609      0.009      -7.044      -1.000\n",
       "==============================================================================\n",
       "Omnibus:                   104642.806   Durbin-Watson:                   0.477\n",
       "Prob(Omnibus):                  0.000   Jarque-Bera (JB):          4980788.899\n",
       "Skew:                           5.013   Prob(JB):                         0.00\n",
       "Kurtosis:                      35.134   Cond. No.                         3.94\n",
       "==============================================================================\n",
       "\n",
       "Notes:\n",
       "[1] Standard Errors assume that the covariance matrix of the errors is correctly specified.\n",
       "\"\"\""
      ]
     },
     "execution_count": 37,
     "metadata": {},
     "output_type": "execute_result"
    }
   ],
   "source": [
    "lm = smf.ols('completed_jobs ~ slurm_crashes', data = reg_df).fit()\n",
    "lm.summary()"
   ]
  },
  {
   "cell_type": "code",
   "execution_count": null,
   "id": "83f6d930-9398-4ac2-b47f-1ed2158b6be7",
   "metadata": {},
   "outputs": [],
   "source": [
    "reg_df.plot(x = 'slurm_crashes', y = 'completed_jobs', kind = 'scatter')\n",
    "plt.plot(reg_df['slurm_crashes'], lm.fittedvalues, color = 'black');"
   ]
  },
  {
   "cell_type": "code",
   "execution_count": null,
   "id": "24f0a133-cd72-4860-8103-634c6e898a2e",
   "metadata": {},
   "outputs": [],
   "source": [
    "plt.scatter(lm.fittedvalues, lm.resid)\n",
    "xmin, xmax = plt.xlim()\n",
    "plt.hlines(y = 0, xmin = xmin, xmax = xmax, color = 'black')\n",
    "plt.xlim(xmin, xmax);"
   ]
  },
  {
   "cell_type": "code",
   "execution_count": null,
   "id": "5d35880f-0491-46d2-872f-5e06cd99cd04",
   "metadata": {},
   "outputs": [],
   "source": [
    "reg_df['rolling'] = reg_df.rolling(7)['slurm_crashes'].sum()"
   ]
  },
  {
   "cell_type": "code",
   "execution_count": null,
   "id": "a8d5bea5-47d7-4086-8272-eb759a970872",
   "metadata": {},
   "outputs": [],
   "source": [
    "new_lm = smf.ols('completed_jobs ~ rolling', data = reg_df).fit()"
   ]
  },
  {
   "cell_type": "code",
   "execution_count": null,
   "id": "fbf19a2f-ab55-44fe-8fd6-96bb553c54c8",
   "metadata": {},
   "outputs": [],
   "source": [
    "reg_df['gage_shifted'] = reg_df['completed_jobs'].shift(periods = 1)"
   ]
  },
  {
   "cell_type": "code",
   "execution_count": null,
   "id": "f4f5b83b-0d2e-41af-82c7-9ee46817c564",
   "metadata": {},
   "outputs": [],
   "source": [
    "shift_lm = smf.ols('completed_jobs ~ gage_shifted', data = reg_df).fit()"
   ]
  },
  {
   "cell_type": "code",
   "execution_count": null,
   "id": "f85d5087-540e-443f-917d-89b80d3e1049",
   "metadata": {},
   "outputs": [],
   "source": [
    "sm.stats.anova_lm(lm)"
   ]
  },
  {
   "cell_type": "code",
   "execution_count": null,
   "id": "e012f5dc-9c92-45c2-bbf9-9cff223aea2f",
   "metadata": {},
   "outputs": [],
   "source": [
    "filtered_reg_df = reg_df.iloc[:len(lm.fittedvalues)]\n",
    "\n",
    "filtered_reg_df.plot(x='slurm_crashes', y='completed_jobs', kind='scatter')\n",
    "plt.plot(filtered_reg_df['slurm_crashes'], lm.fittedvalues, color='black')"
   ]
  },
  {
   "cell_type": "raw",
   "id": "10e1e792-3210-4165-9373-4ebfa227961b",
   "metadata": {},
   "source": []
  }
 ],
 "metadata": {
  "kernelspec": {
   "display_name": "Python 3 (ipykernel)",
   "language": "python",
   "name": "python3"
  },
  "language_info": {
   "codemirror_mode": {
    "name": "ipython",
    "version": 3
   },
   "file_extension": ".py",
   "mimetype": "text/x-python",
   "name": "python",
   "nbconvert_exporter": "python",
   "pygments_lexer": "ipython3",
   "version": "3.12.4"
  }
 },
 "nbformat": 4,
 "nbformat_minor": 5
}
