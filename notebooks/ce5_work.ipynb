{
 "cells": [
  {
   "cell_type": "code",
   "execution_count": 1,
   "metadata": {},
   "outputs": [],
   "source": [
    "import pandas as pd\n",
    "from datetime import datetime as dt\n",
    "import numpy as np\n",
    "import re"
   ]
  },
  {
   "cell_type": "code",
   "execution_count": 2,
   "metadata": {},
   "outputs": [],
   "source": [
    "# read in dataset \n",
    "ce5 = pd.read_csv('../data/slurm_wrapper_ce5.log',\n",
    "                  header=None,\n",
    "                  delimiter=' - ',\n",
    "                  engine='python',\n",
    "                #   nrows=1000000\n",
    "                  )"
   ]
  },
  {
   "cell_type": "code",
   "execution_count": 3,
   "metadata": {},
   "outputs": [
    {
     "data": {
      "text/html": [
       "<div>\n",
       "<style scoped>\n",
       "    .dataframe tbody tr th:only-of-type {\n",
       "        vertical-align: middle;\n",
       "    }\n",
       "\n",
       "    .dataframe tbody tr th {\n",
       "        vertical-align: top;\n",
       "    }\n",
       "\n",
       "    .dataframe thead th {\n",
       "        text-align: right;\n",
       "    }\n",
       "</style>\n",
       "<table border=\"1\" class=\"dataframe\">\n",
       "  <thead>\n",
       "    <tr style=\"text-align: right;\">\n",
       "      <th></th>\n",
       "      <th>END</th>\n",
       "      <th>USER</th>\n",
       "      <th>RETRY</th>\n",
       "      <th>TIME</th>\n",
       "      <th>RETURNCODE</th>\n",
       "      <th>COMMAND</th>\n",
       "    </tr>\n",
       "  </thead>\n",
       "  <tbody>\n",
       "    <tr>\n",
       "      <th>0</th>\n",
       "      <td>2020-10-16 08:15:39.278699</td>\n",
       "      <td>0</td>\n",
       "      <td>0</td>\n",
       "      <td>0.073476</td>\n",
       "      <td>0.0</td>\n",
       "      <td>[/usr/bin/sacct, -u, appelte1, -S, 2020-10-10]</td>\n",
       "    </tr>\n",
       "    <tr>\n",
       "      <th>1</th>\n",
       "      <td>2020-10-16 08:18:08.313309</td>\n",
       "      <td>0</td>\n",
       "      <td>0</td>\n",
       "      <td>0.183632</td>\n",
       "      <td>0.0</td>\n",
       "      <td>[/usr/bin/sacct, -u, appelte1, -S, 2020-10-10]</td>\n",
       "    </tr>\n",
       "  </tbody>\n",
       "</table>\n",
       "</div>"
      ],
      "text/plain": [
       "                         END  USER  RETRY      TIME  RETURNCODE  \\\n",
       "0 2020-10-16 08:15:39.278699     0      0  0.073476         0.0   \n",
       "1 2020-10-16 08:18:08.313309     0      0  0.183632         0.0   \n",
       "\n",
       "                                          COMMAND  \n",
       "0  [/usr/bin/sacct, -u, appelte1, -S, 2020-10-10]  \n",
       "1  [/usr/bin/sacct, -u, appelte1, -S, 2020-10-10]  "
      ]
     },
     "execution_count": 3,
     "metadata": {},
     "output_type": "execute_result"
    }
   ],
   "source": [
    "# set column names\n",
    "colnames = ['END', 'USER', 'RETRY', 'TIME', 'RETURNCODE', 'COMMAND']\n",
    "ce5.columns = colnames\n",
    "\n",
    "from carb_funcs import optional_ms\n",
    "\n",
    "# Apply the parsing function to the 'END' column\n",
    "ce5['END'] = optional_ms(ce5['END'])\n",
    "\n",
    "# Clean and convert other columns\n",
    "ce5['TIME'] = ce5['TIME'].str.replace('time', '', regex=False).astype(float)\n",
    "ce5['USER'] = ce5['USER'].str.replace('user', '', regex=False).astype(int)\n",
    "ce5['RETRY'] = ce5['RETRY'].str.replace('retry', '', regex=False).astype(int)\n",
    "ce5['RETURNCODE'] = ce5['RETURNCODE'].str.replace('returncode', '', regex=False).astype(float)\n",
    "ce5['COMMAND'] = ce5['COMMAND'].str.replace('command', '', regex=False)\n",
    "ce5['COMMAND'] = [re.sub(\"[\\'\\\\[\\\\] ]\", '', row).split(',') for row in ce5['COMMAND']];\n",
    "# Display the updated DataFrame\n",
    "ce5.head(2)"
   ]
  },
  {
   "cell_type": "code",
   "execution_count": 4,
   "metadata": {},
   "outputs": [
    {
     "name": "stdout",
     "output_type": "stream",
     "text": [
      "2021-10-07 21:59:17.693458\n"
     ]
    }
   ],
   "source": [
    "# checking that all values contain timestamps\n",
    "print(ce5['END'].sort_values().iloc[-1])"
   ]
  },
  {
   "cell_type": "markdown",
   "metadata": {},
   "source": [
    "To identify periods of unresponsiveness, use the two log files. Look for records that are the \"sbatch\" command from user 9204 (the test user) that have return code 1 and an execution time of greater than 15 seconds."
   ]
  },
  {
   "cell_type": "code",
   "execution_count": 5,
   "metadata": {},
   "outputs": [
    {
     "data": {
      "text/html": [
       "<div>\n",
       "<style scoped>\n",
       "    .dataframe tbody tr th:only-of-type {\n",
       "        vertical-align: middle;\n",
       "    }\n",
       "\n",
       "    .dataframe tbody tr th {\n",
       "        vertical-align: top;\n",
       "    }\n",
       "\n",
       "    .dataframe thead th {\n",
       "        text-align: right;\n",
       "    }\n",
       "</style>\n",
       "<table border=\"1\" class=\"dataframe\">\n",
       "  <thead>\n",
       "    <tr style=\"text-align: right;\">\n",
       "      <th></th>\n",
       "      <th>END</th>\n",
       "      <th>USER</th>\n",
       "      <th>RETRY</th>\n",
       "      <th>TIME</th>\n",
       "      <th>RETURNCODE</th>\n",
       "      <th>COMMAND</th>\n",
       "    </tr>\n",
       "  </thead>\n",
       "  <tbody>\n",
       "    <tr>\n",
       "      <th>49958</th>\n",
       "      <td>2020-10-18 06:53:44.272915</td>\n",
       "      <td>9204</td>\n",
       "      <td>0</td>\n",
       "      <td>20.038464</td>\n",
       "      <td>1.0</td>\n",
       "      <td>[/usr/bin/sbatch, /tmp/condor_g_scratch.0x55c1...</td>\n",
       "    </tr>\n",
       "    <tr>\n",
       "      <th>49972</th>\n",
       "      <td>2020-10-18 06:54:04.322412</td>\n",
       "      <td>9204</td>\n",
       "      <td>1</td>\n",
       "      <td>20.048906</td>\n",
       "      <td>1.0</td>\n",
       "      <td>[/usr/bin/sbatch, /tmp/condor_g_scratch.0x55c1...</td>\n",
       "    </tr>\n",
       "    <tr>\n",
       "      <th>50467</th>\n",
       "      <td>2020-10-18 07:47:25.825172</td>\n",
       "      <td>9204</td>\n",
       "      <td>0</td>\n",
       "      <td>20.082628</td>\n",
       "      <td>1.0</td>\n",
       "      <td>[/usr/bin/sbatch, /tmp/condor_g_scratch.0x55c1...</td>\n",
       "    </tr>\n",
       "    <tr>\n",
       "      <th>50473</th>\n",
       "      <td>2020-10-18 07:47:45.871008</td>\n",
       "      <td>9204</td>\n",
       "      <td>1</td>\n",
       "      <td>20.045221</td>\n",
       "      <td>1.0</td>\n",
       "      <td>[/usr/bin/sbatch, /tmp/condor_g_scratch.0x55c1...</td>\n",
       "    </tr>\n",
       "    <tr>\n",
       "      <th>50582</th>\n",
       "      <td>2020-10-18 07:53:33.972840</td>\n",
       "      <td>9204</td>\n",
       "      <td>0</td>\n",
       "      <td>20.041486</td>\n",
       "      <td>1.0</td>\n",
       "      <td>[/usr/bin/sbatch, /tmp/condor_g_scratch.0x55c1...</td>\n",
       "    </tr>\n",
       "  </tbody>\n",
       "</table>\n",
       "</div>"
      ],
      "text/plain": [
       "                             END  USER  RETRY       TIME  RETURNCODE  \\\n",
       "49958 2020-10-18 06:53:44.272915  9204      0  20.038464         1.0   \n",
       "49972 2020-10-18 06:54:04.322412  9204      1  20.048906         1.0   \n",
       "50467 2020-10-18 07:47:25.825172  9204      0  20.082628         1.0   \n",
       "50473 2020-10-18 07:47:45.871008  9204      1  20.045221         1.0   \n",
       "50582 2020-10-18 07:53:33.972840  9204      0  20.041486         1.0   \n",
       "\n",
       "                                                 COMMAND  \n",
       "49958  [/usr/bin/sbatch, /tmp/condor_g_scratch.0x55c1...  \n",
       "49972  [/usr/bin/sbatch, /tmp/condor_g_scratch.0x55c1...  \n",
       "50467  [/usr/bin/sbatch, /tmp/condor_g_scratch.0x55c1...  \n",
       "50473  [/usr/bin/sbatch, /tmp/condor_g_scratch.0x55c1...  \n",
       "50582  [/usr/bin/sbatch, /tmp/condor_g_scratch.0x55c1...  "
      ]
     },
     "metadata": {},
     "output_type": "display_data"
    },
    {
     "name": "stdout",
     "output_type": "stream",
     "text": [
      "<class 'pandas.core.frame.DataFrame'>\n",
      "Index: 1811 entries, 49958 to 4731181\n",
      "Data columns (total 6 columns):\n",
      " #   Column      Non-Null Count  Dtype         \n",
      "---  ------      --------------  -----         \n",
      " 0   END         1811 non-null   datetime64[ns]\n",
      " 1   USER        1811 non-null   int64         \n",
      " 2   RETRY       1811 non-null   int64         \n",
      " 3   TIME        1811 non-null   float64       \n",
      " 4   RETURNCODE  1811 non-null   float64       \n",
      " 5   COMMAND     1811 non-null   object        \n",
      "dtypes: datetime64[ns](1), float64(2), int64(2), object(1)\n",
      "memory usage: 99.0+ KB\n",
      "None (1811, 6)\n"
     ]
    }
   ],
   "source": [
    "# slicing out the records that satisfy unresponsive conditions outlined. \n",
    "ce5_filtered = ce5[(ce5['USER'] == 9204) & (ce5['RETURNCODE'] == 1.0) & (ce5['TIME'] > 15)]\n",
    "ce5_unresponsive_df = ce5_filtered[ce5_filtered['COMMAND'].map(lambda x: any('sbatch' in cmd for cmd in x))]\n",
    "display(ce5_unresponsive_df.head())\n",
    "print(ce5_unresponsive_df.info(), ce5_unresponsive_df.shape)"
   ]
  },
  {
   "cell_type": "code",
   "execution_count": 7,
   "metadata": {},
   "outputs": [],
   "source": [
    "ce5_unresponsive_df.to_csv('../data/ce5_unresponsive.csv', index=False)"
   ]
  },
  {
   "cell_type": "code",
   "execution_count": null,
   "metadata": {},
   "outputs": [],
   "source": []
  }
 ],
 "metadata": {
  "kernelspec": {
   "display_name": "base",
   "language": "python",
   "name": "python3"
  },
  "language_info": {
   "codemirror_mode": {
    "name": "ipython",
    "version": 3
   },
   "file_extension": ".py",
   "mimetype": "text/x-python",
   "name": "python",
   "nbconvert_exporter": "python",
   "pygments_lexer": "ipython3",
   "version": "3.12.4"
  }
 },
 "nbformat": 4,
 "nbformat_minor": 2
}
