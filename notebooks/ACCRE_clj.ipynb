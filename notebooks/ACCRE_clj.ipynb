{
 "cells": [
  {
   "cell_type": "code",
   "execution_count": 2,
   "id": "ce3bd8f3-b9f6-46c0-80ca-8e169e6592eb",
   "metadata": {},
   "outputs": [],
   "source": [
    "import pandas as pd\n",
    "from datetime import datetime as dt\n",
    "import datetime as dat\n",
    "import re\n",
    "import numpy as np\n",
    "import matplotlib.pyplot as plt\n",
    "import seaborn as sns"
   ]
  },
  {
   "cell_type": "code",
   "execution_count": 3,
   "id": "bda145c2-7804-4d0e-baaf-bbf63dda24b8",
   "metadata": {},
   "outputs": [],
   "source": [
    "jobs = pd.read_csv(\"../data/fullsample.csv\", nrows=100000)"
   ]
  },
  {
   "cell_type": "code",
   "execution_count": 4,
   "id": "c195a8ec-ea55-4d2e-80c6-16505a058cc5",
   "metadata": {},
   "outputs": [],
   "source": [
    "ce5 = pd.read_csv('../data/slurm_wrapper_ce5.log',\n",
    "                  header=None,\n",
    "                  delimiter=' - ',\n",
    "                  engine='python',\n",
    "                  nrows=1000)"
   ]
  },
  {
   "cell_type": "code",
   "execution_count": 5,
   "id": "8a7d8ab9-3e28-4a02-8047-11cc23b8ecfb",
   "metadata": {},
   "outputs": [],
   "source": [
    "ce6 = pd.read_csv('../data/slurm_wrapper_ce6.log',\n",
    "                  header=None,\n",
    "                  delimiter=' - ',\n",
    "                  engine='python',\n",
    "                  nrows=1000\n",
    "                  )"
   ]
  },
  {
   "cell_type": "code",
   "execution_count": 6,
   "id": "2dd316f6-0d55-4968-a2f6-1fe8d77bec23",
   "metadata": {},
   "outputs": [],
   "source": [
    "colnames = ['END', 'USER', 'RETRY', 'TIME', 'RETURNCODE', 'COMMAND']\n",
    "ce5.columns=colnames\n",
    "ce6.columns=colnames"
   ]
  },
  {
   "cell_type": "code",
   "execution_count": 7,
   "id": "100bfca7-5f4d-4edf-9568-e2ed9d18402d",
   "metadata": {},
   "outputs": [],
   "source": [
    "ce5['END'] = [dt.strptime(row + ('.000000' if '.' not in row else ''), '%Y-%m-%d %H:%M:%S.%f') for row in ce5['END']]\n",
    "ce5['TIME'] = ce5['TIME'].str.replace('time', '', regex=False).astype(float)\n",
    "ce5['USER'] = ce5['USER'].str.replace('user', '', regex=False).astype(int)\n",
    "ce5['RETRY'] = ce5['RETRY'].str.replace('retry', '', regex=False).astype(int)\n",
    "ce5['RETURNCODE'] = ce5['RETURNCODE'].str.replace('returncode', '', regex=False).astype(float)\n",
    "ce5['COMMAND'] = ce5['COMMAND'].str.replace('command', '', regex=False)"
   ]
  },
  {
   "cell_type": "code",
   "execution_count": 8,
   "id": "a123f8b8-17af-4f23-bbea-96a6aad375f7",
   "metadata": {},
   "outputs": [],
   "source": [
    "ce6['END'] = [dt.strptime(row + ('.000000' if '.' not in row else ''), '%Y-%m-%d %H:%M:%S.%f') for row in ce6['END']]\n",
    "ce6['TIME'] = ce6['TIME'].str.replace('time', '', regex=False).astype(float)\n",
    "ce6['USER'] = ce6['USER'].str.replace('user', '', regex=False).astype(int)\n",
    "ce6['RETRY'] = ce6['RETRY'].str.replace('retry', '', regex=False).astype(int)\n",
    "ce6['RETURNCODE'] = ce6['RETURNCODE'].str.replace('returncode', '', regex=False).astype(float)\n",
    "ce6['COMMAND'] = ce6['COMMAND'].str.replace('command', '', regex=False)"
   ]
  },
  {
   "cell_type": "code",
   "execution_count": 9,
   "id": "5f4e3866-e613-4ea4-87fa-d8e641b9883e",
   "metadata": {},
   "outputs": [],
   "source": [
    "sbatch = ce6.loc[ce6['COMMAND'].str.contains('/usr/bin/sbatch')]"
   ]
  },
  {
   "cell_type": "code",
   "execution_count": 10,
   "id": "84e584f0-b9d1-4452-a66e-32a8cb00691b",
   "metadata": {},
   "outputs": [],
   "source": [
    "jobs = jobs[jobs['END'] != 'Unknown']"
   ]
  },
  {
   "cell_type": "code",
   "execution_count": 11,
   "id": "0660bdd3-7270-4096-932e-781083a907db",
   "metadata": {},
   "outputs": [],
   "source": [
    "# Fixes jobs BEGIN and END columns to datetime\n",
    "jobs['END'] = [dt.strptime(row.replace('T', ' ') + ('.000000' if '.' not in row else ''), '%Y-%m-%d %H:%M:%S.%f') for row in jobs['END']]\n",
    "jobs['BEGIN'] = [dt.strptime(row.replace('T', ' ') + ('.000000' if '.' not in row else ''), '%Y-%m-%d %H:%M:%S.%f') for row in jobs['BEGIN']]"
   ]
  },
  {
   "cell_type": "code",
   "execution_count": 12,
   "id": "031f332c-6e61-4889-a2f6-3f67d4bb6da6",
   "metadata": {},
   "outputs": [],
   "source": [
    "# Fixes USEDMEM column to remove the M and convert to a numeric\n",
    "jobs['USEDMEM'] = jobs['USEDMEM'].str[:-1]\n",
    "jobs['USEDMEM'] = pd.to_numeric(jobs['USEDMEM'])"
   ]
  },
  {
   "cell_type": "code",
   "execution_count": 13,
   "id": "8a0103d8-4fee-4a87-83fa-f112ed53dfd4",
   "metadata": {},
   "outputs": [],
   "source": [
    "# Cleans memory of nodes/CPUs to allow for numeric manipulation\n",
    "jobs.insert(5, 'Mc_Mn', jobs['REQMEM'].str[-2:])\n",
    "jobs['REQMEM']  = jobs['REQMEM'].str[:-2]\n",
    "jobs['REQMEM'] = pd.to_numeric(jobs['REQMEM'])"
   ]
  },
  {
   "cell_type": "code",
   "execution_count": 14,
   "id": "31f444df-5c68-44a9-aab4-ad379f46ca49",
   "metadata": {},
   "outputs": [],
   "source": [
    "# Creates new column that is the difference between the memory used and memory requested\n",
    "diffmem = jobs['REQMEM'] - jobs['USEDMEM']\n",
    "jobs.insert(7, 'DIFFMEM', diffmem)"
   ]
  },
  {
   "cell_type": "code",
   "execution_count": 16,
   "id": "a0731723-aaee-42ed-9d49-cbea259015ce",
   "metadata": {},
   "outputs": [],
   "source": [
    "# New column that turns the completion status into a boolean for logistic regression\n",
    "jobs.insert(2, 'COMPLETE', jobs['STATE'] == 'COMPLETED')\n",
    "jobs['COMPLETE'] = jobs['COMPLETE'].astype(int)"
   ]
  },
  {
   "cell_type": "code",
   "execution_count": 56,
   "id": "e21cec18-f4ec-4f14-8636-7ec7b401d515",
   "metadata": {},
   "outputs": [],
   "source": [
    "incomplete = jobs.loc[jobs['COMPLETE'] != 1].head(5)"
   ]
  },
  {
   "cell_type": "code",
   "execution_count": 19,
   "id": "cd31ad04-15ec-477e-878c-f05932201692",
   "metadata": {},
   "outputs": [],
   "source": [
    "USEDMEM_pivot = jobs.pivot_table(values='USEDMEM', index=['NODES','EXITCODE', 'STATE'], aggfunc='mean')"
   ]
  },
  {
   "cell_type": "code",
   "execution_count": 20,
   "id": "02207c02-f089-4bf5-9db6-32a94a0fd5f8",
   "metadata": {},
   "outputs": [],
   "source": [
    "REQMEM_pivot = jobs.pivot_table(values='REQMEM', index=['Mc_Mn','EXITCODE', 'STATE'], aggfunc='mean')"
   ]
  },
  {
   "cell_type": "markdown",
   "id": "9b576abc-056a-4543-9532-6c06a88db6f5",
   "metadata": {},
   "source": [
    "The **EXITCODE** gives the [exit code](https://www.agileconnection.com/article/overview-linux-exit-codes) for the job, with \"0:0\" indicating a successful job. Exit codes have two numbers, where if the first number is non-zero, it indicates a problem on the server side and if the second is nonzero, it indicates a problem on the user side."
   ]
  },
  {
   "cell_type": "code",
   "execution_count": 54,
   "id": "0aee47c7-e651-48dd-a457-c02c89c16f16",
   "metadata": {},
   "outputs": [],
   "source": [
    "diff_mem_group = jobs.groupby(['STATE', 'PARTITION', 'EXITCODE'])['DIFFMEM'].describe()"
   ]
  },
  {
   "cell_type": "code",
   "execution_count": 23,
   "id": "c0e7b755-ce2c-4fbc-a1dd-757b55a47428",
   "metadata": {},
   "outputs": [],
   "source": [
    "# jobs['MONTH'] = jobs['END'].dt.month"
   ]
  },
  {
   "cell_type": "code",
   "execution_count": 24,
   "id": "7bd2b713-feaf-4938-a4b9-123103019199",
   "metadata": {},
   "outputs": [
    {
     "data": {
      "text/plain": [
       "JOBID\n",
       "30796171       243216.12\n",
       "30853133        20604.62\n",
       "30858137        57553.77\n",
       "30935078        20577.96\n",
       "31364111_10      9697.47\n",
       "                 ...    \n",
       "32002391_95      1638.59\n",
       "32002391_96      1682.93\n",
       "32002391_97      1685.29\n",
       "32002391_98      1689.44\n",
       "32002391_99      1695.11\n",
       "Name: USEDMEM, Length: 99993, dtype: float64"
      ]
     },
     "execution_count": 24,
     "metadata": {},
     "output_type": "execute_result"
    }
   ],
   "source": [
    "jobs.groupby('JOBID')['USEDMEM'].mean()"
   ]
  },
  {
   "cell_type": "code",
   "execution_count": 25,
   "id": "e49b5e3e-4033-4b22-b8bf-87130bbf40dd",
   "metadata": {},
   "outputs": [
    {
     "data": {
      "text/html": [
       "<div>\n",
       "<style scoped>\n",
       "    .dataframe tbody tr th:only-of-type {\n",
       "        vertical-align: middle;\n",
       "    }\n",
       "\n",
       "    .dataframe tbody tr th {\n",
       "        vertical-align: top;\n",
       "    }\n",
       "\n",
       "    .dataframe thead th {\n",
       "        text-align: right;\n",
       "    }\n",
       "</style>\n",
       "<table border=\"1\" class=\"dataframe\">\n",
       "  <thead>\n",
       "    <tr style=\"text-align: right;\">\n",
       "      <th></th>\n",
       "      <th>JOBID</th>\n",
       "      <th>STATE</th>\n",
       "      <th>COMPLETE</th>\n",
       "      <th>BEGIN</th>\n",
       "      <th>END</th>\n",
       "      <th>REQMEM</th>\n",
       "      <th>Mc_Mn</th>\n",
       "      <th>USEDMEM</th>\n",
       "      <th>DIFFMEM</th>\n",
       "      <th>REQTIME</th>\n",
       "      <th>USEDTIME</th>\n",
       "      <th>NODES</th>\n",
       "      <th>CPUS</th>\n",
       "      <th>PARTITION</th>\n",
       "      <th>EXITCODE</th>\n",
       "    </tr>\n",
       "  </thead>\n",
       "  <tbody>\n",
       "    <tr>\n",
       "      <th>1</th>\n",
       "      <td>30853133</td>\n",
       "      <td>COMPLETED</td>\n",
       "      <td>1</td>\n",
       "      <td>2021-08-06 11:36:09</td>\n",
       "      <td>2021-09-05 11:36:32</td>\n",
       "      <td>262144</td>\n",
       "      <td>Mn</td>\n",
       "      <td>20604.62</td>\n",
       "      <td>241539.38</td>\n",
       "      <td>30-00:00:00</td>\n",
       "      <td>30-00:00:23</td>\n",
       "      <td>1</td>\n",
       "      <td>1</td>\n",
       "      <td>cgw-platypus</td>\n",
       "      <td>0:0</td>\n",
       "    </tr>\n",
       "  </tbody>\n",
       "</table>\n",
       "</div>"
      ],
      "text/plain": [
       "      JOBID      STATE  COMPLETE               BEGIN                 END  \\\n",
       "1  30853133  COMPLETED         1 2021-08-06 11:36:09 2021-09-05 11:36:32   \n",
       "\n",
       "   REQMEM Mc_Mn   USEDMEM    DIFFMEM      REQTIME     USEDTIME  NODES  CPUS  \\\n",
       "1  262144    Mn  20604.62  241539.38  30-00:00:00  30-00:00:23      1     1   \n",
       "\n",
       "      PARTITION EXITCODE  \n",
       "1  cgw-platypus      0:0  "
      ]
     },
     "execution_count": 25,
     "metadata": {},
     "output_type": "execute_result"
    }
   ],
   "source": [
    "jobs[jobs['JOBID'].str.contains('30853133')]"
   ]
  },
  {
   "cell_type": "code",
   "execution_count": null,
   "id": "eb17b48f-9a5d-4cb4-9792-0e84a54cf541",
   "metadata": {},
   "outputs": [],
   "source": []
  }
 ],
 "metadata": {
  "kernelspec": {
   "display_name": "Python 3 (ipykernel)",
   "language": "python",
   "name": "python3"
  },
  "language_info": {
   "codemirror_mode": {
    "name": "ipython",
    "version": 3
   },
   "file_extension": ".py",
   "mimetype": "text/x-python",
   "name": "python",
   "nbconvert_exporter": "python",
   "pygments_lexer": "ipython3",
   "version": "3.12.4"
  }
 },
 "nbformat": 4,
 "nbformat_minor": 5
}
