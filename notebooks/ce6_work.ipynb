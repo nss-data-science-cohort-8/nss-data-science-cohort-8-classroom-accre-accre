{
 "cells": [
  {
   "cell_type": "code",
   "execution_count": 1,
   "metadata": {},
   "outputs": [],
   "source": [
    "import pandas as pd\n",
    "from datetime import datetime as dt\n",
    "import numpy as np\n",
    "import re"
   ]
  },
  {
   "cell_type": "code",
   "execution_count": 2,
   "metadata": {},
   "outputs": [],
   "source": [
    "# read in dataset \n",
    "ce6 = pd.read_csv('../data/slurm_wrapper_ce6.log',\n",
    "                  header=None,\n",
    "                  delimiter=' - ',\n",
    "                  engine='python',\n",
    "                #   nrows=10000\n",
    "                  )"
   ]
  },
  {
   "cell_type": "code",
   "execution_count": 3,
   "metadata": {},
   "outputs": [
    {
     "data": {
      "text/html": [
       "<div>\n",
       "<style scoped>\n",
       "    .dataframe tbody tr th:only-of-type {\n",
       "        vertical-align: middle;\n",
       "    }\n",
       "\n",
       "    .dataframe tbody tr th {\n",
       "        vertical-align: top;\n",
       "    }\n",
       "\n",
       "    .dataframe thead th {\n",
       "        text-align: right;\n",
       "    }\n",
       "</style>\n",
       "<table border=\"1\" class=\"dataframe\">\n",
       "  <thead>\n",
       "    <tr style=\"text-align: right;\">\n",
       "      <th></th>\n",
       "      <th>END</th>\n",
       "      <th>USER</th>\n",
       "      <th>RETRY</th>\n",
       "      <th>TIME</th>\n",
       "      <th>RETURNCODE</th>\n",
       "      <th>COMMAND</th>\n",
       "    </tr>\n",
       "  </thead>\n",
       "  <tbody>\n",
       "    <tr>\n",
       "      <th>0</th>\n",
       "      <td>2020-10-16 10:37:44.163454</td>\n",
       "      <td>9202</td>\n",
       "      <td>0</td>\n",
       "      <td>0.084954</td>\n",
       "      <td>0.0</td>\n",
       "      <td>[/usr/bin/scontrol, show, job, 24997187]</td>\n",
       "    </tr>\n",
       "    <tr>\n",
       "      <th>1</th>\n",
       "      <td>2020-10-16 10:37:44.206654</td>\n",
       "      <td>9202</td>\n",
       "      <td>0</td>\n",
       "      <td>0.089431</td>\n",
       "      <td>0.0</td>\n",
       "      <td>[/usr/bin/scontrol, show, job, 24997190]</td>\n",
       "    </tr>\n",
       "  </tbody>\n",
       "</table>\n",
       "</div>"
      ],
      "text/plain": [
       "                         END  USER  RETRY      TIME  RETURNCODE  \\\n",
       "0 2020-10-16 10:37:44.163454  9202      0  0.084954         0.0   \n",
       "1 2020-10-16 10:37:44.206654  9202      0  0.089431         0.0   \n",
       "\n",
       "                                    COMMAND  \n",
       "0  [/usr/bin/scontrol, show, job, 24997187]  \n",
       "1  [/usr/bin/scontrol, show, job, 24997190]  "
      ]
     },
     "execution_count": 3,
     "metadata": {},
     "output_type": "execute_result"
    }
   ],
   "source": [
    "# set column names\n",
    "colnames = ['END', 'USER', 'RETRY', 'TIME', 'RETURNCODE', 'COMMAND']\n",
    "ce6.columns = colnames\n",
    "\n",
    "from carb_funcs import optional_ms\n",
    "\n",
    "# Apply the parsing function to the 'END' column\n",
    "ce6['END'] = optional_ms(ce6['END'])\n",
    "\n",
    "# Clean and convert other columns\n",
    "ce6['TIME'] = ce6['TIME'].str.replace('time', '', regex=False).astype(float)\n",
    "ce6['USER'] = ce6['USER'].str.replace('user', '', regex=False).astype(int)\n",
    "ce6['RETRY'] = ce6['RETRY'].str.replace('retry', '', regex=False).astype(int)\n",
    "ce6['RETURNCODE'] = ce6['RETURNCODE'].str.replace('returncode', '', regex=False).astype(float)\n",
    "ce6['COMMAND'] = ce6['COMMAND'].str.replace('command', '', regex=False)\n",
    "ce6['COMMAND'] = [re.sub(\"[\\'\\\\[\\\\] ]\", '', row).split(',') for row in ce6['COMMAND']];\n",
    "# Display the updated DataFrame\n",
    "ce6.head(2)"
   ]
  },
  {
   "cell_type": "code",
   "execution_count": 4,
   "metadata": {},
   "outputs": [
    {
     "name": "stdout",
     "output_type": "stream",
     "text": [
      "2021-10-07 22:00:20.919558\n"
     ]
    }
   ],
   "source": [
    "# checking that all values contain timestamps\n",
    "print(ce6['END'].sort_values().iloc[-1])"
   ]
  },
  {
   "cell_type": "code",
   "execution_count": null,
   "metadata": {},
   "outputs": [
    {
     "data": {
      "text/html": [
       "<div>\n",
       "<style scoped>\n",
       "    .dataframe tbody tr th:only-of-type {\n",
       "        vertical-align: middle;\n",
       "    }\n",
       "\n",
       "    .dataframe tbody tr th {\n",
       "        vertical-align: top;\n",
       "    }\n",
       "\n",
       "    .dataframe thead th {\n",
       "        text-align: right;\n",
       "    }\n",
       "</style>\n",
       "<table border=\"1\" class=\"dataframe\">\n",
       "  <thead>\n",
       "    <tr style=\"text-align: right;\">\n",
       "      <th></th>\n",
       "      <th>END</th>\n",
       "      <th>USER</th>\n",
       "      <th>RETRY</th>\n",
       "      <th>TIME</th>\n",
       "      <th>RETURNCODE</th>\n",
       "      <th>COMMAND</th>\n",
       "    </tr>\n",
       "  </thead>\n",
       "  <tbody>\n",
       "    <tr>\n",
       "      <th>36913</th>\n",
       "      <td>2020-10-18 06:16:25.392946</td>\n",
       "      <td>9204</td>\n",
       "      <td>0</td>\n",
       "      <td>20.037672</td>\n",
       "      <td>1.0</td>\n",
       "      <td>[/usr/bin/sbatch, /tmp/condor_g_scratch.0x5572...</td>\n",
       "    </tr>\n",
       "    <tr>\n",
       "      <th>37605</th>\n",
       "      <td>2020-10-18 06:38:44.172473</td>\n",
       "      <td>9204</td>\n",
       "      <td>0</td>\n",
       "      <td>20.038736</td>\n",
       "      <td>1.0</td>\n",
       "      <td>[/usr/bin/sbatch, /tmp/condor_g_scratch.0x5572...</td>\n",
       "    </tr>\n",
       "    <tr>\n",
       "      <th>39075</th>\n",
       "      <td>2020-10-18 07:47:32.241050</td>\n",
       "      <td>9204</td>\n",
       "      <td>0</td>\n",
       "      <td>20.018348</td>\n",
       "      <td>1.0</td>\n",
       "      <td>[/usr/bin/sbatch, /tmp/condor_g_scratch.0x5572...</td>\n",
       "    </tr>\n",
       "    <tr>\n",
       "      <th>39356</th>\n",
       "      <td>2020-10-18 08:08:49.366063</td>\n",
       "      <td>9204</td>\n",
       "      <td>0</td>\n",
       "      <td>20.030497</td>\n",
       "      <td>1.0</td>\n",
       "      <td>[/usr/bin/sbatch, /tmp/condor_g_scratch.0x5572...</td>\n",
       "    </tr>\n",
       "    <tr>\n",
       "      <th>40072</th>\n",
       "      <td>2020-10-18 08:57:22.419398</td>\n",
       "      <td>9204</td>\n",
       "      <td>0</td>\n",
       "      <td>20.038508</td>\n",
       "      <td>1.0</td>\n",
       "      <td>[/usr/bin/sbatch, /tmp/condor_g_scratch.0x5572...</td>\n",
       "    </tr>\n",
       "  </tbody>\n",
       "</table>\n",
       "</div>"
      ],
      "text/plain": [
       "                             END  USER  RETRY       TIME  RETURNCODE  \\\n",
       "36913 2020-10-18 06:16:25.392946  9204      0  20.037672         1.0   \n",
       "37605 2020-10-18 06:38:44.172473  9204      0  20.038736         1.0   \n",
       "39075 2020-10-18 07:47:32.241050  9204      0  20.018348         1.0   \n",
       "39356 2020-10-18 08:08:49.366063  9204      0  20.030497         1.0   \n",
       "40072 2020-10-18 08:57:22.419398  9204      0  20.038508         1.0   \n",
       "\n",
       "                                                 COMMAND  \n",
       "36913  [/usr/bin/sbatch, /tmp/condor_g_scratch.0x5572...  \n",
       "37605  [/usr/bin/sbatch, /tmp/condor_g_scratch.0x5572...  \n",
       "39075  [/usr/bin/sbatch, /tmp/condor_g_scratch.0x5572...  \n",
       "39356  [/usr/bin/sbatch, /tmp/condor_g_scratch.0x5572...  \n",
       "40072  [/usr/bin/sbatch, /tmp/condor_g_scratch.0x5572...  "
      ]
     },
     "metadata": {},
     "output_type": "display_data"
    }
   ],
   "source": [
    "# slicing out the records that satisfy unresponsive conditions outlined. \n",
    "# slicing out the records that satisfy unresponsive conditions outlined. \n",
    "ce6_filtered = ce6[(ce6['USER'] == 9204) & (ce6['RETURNCODE'] == 1.0) & (ce6['TIME'] > 15)]\n",
    "ce6_unresponsive_df = ce6_filtered[ce6_filtered['COMMAND'].map(lambda x: any('sbatch' in cmd for cmd in x))]\n",
    "display(ce6_unresponsive_df.head())"
   ]
  },
  {
   "cell_type": "code",
   "execution_count": 8,
   "metadata": {},
   "outputs": [
    {
     "name": "stdout",
     "output_type": "stream",
     "text": [
      "<class 'pandas.core.frame.DataFrame'>\n",
      "Index: 1485 entries, 36913 to 4766868\n",
      "Data columns (total 6 columns):\n",
      " #   Column      Non-Null Count  Dtype         \n",
      "---  ------      --------------  -----         \n",
      " 0   END         1485 non-null   datetime64[ns]\n",
      " 1   USER        1485 non-null   int64         \n",
      " 2   RETRY       1485 non-null   int64         \n",
      " 3   TIME        1485 non-null   float64       \n",
      " 4   RETURNCODE  1485 non-null   float64       \n",
      " 5   COMMAND     1485 non-null   object        \n",
      "dtypes: datetime64[ns](1), float64(2), int64(2), object(1)\n",
      "memory usage: 81.2+ KB\n",
      "None (1485, 6)\n"
     ]
    }
   ],
   "source": [
    "print(ce6_unresponsive_df.info(), ce6_unresponsive_df.shape)"
   ]
  },
  {
   "cell_type": "code",
   "execution_count": 6,
   "metadata": {},
   "outputs": [],
   "source": [
    "ce6_unresponsive_df.to_csv('../data/ce6_unresponsive.csv', index=False)"
   ]
  }
 ],
 "metadata": {
  "kernelspec": {
   "display_name": "base",
   "language": "python",
   "name": "python3"
  },
  "language_info": {
   "codemirror_mode": {
    "name": "ipython",
    "version": 3
   },
   "file_extension": ".py",
   "mimetype": "text/x-python",
   "name": "python",
   "nbconvert_exporter": "python",
   "pygments_lexer": "ipython3",
   "version": "3.12.4"
  }
 },
 "nbformat": 4,
 "nbformat_minor": 2
}
