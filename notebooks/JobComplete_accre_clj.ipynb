{
 "cells": [
  {
   "cell_type": "code",
   "execution_count": 1,
   "id": "7870233d-361e-4109-871c-9f00b64968a2",
   "metadata": {},
   "outputs": [],
   "source": [
    "import pandas as pd\n",
    "from datetime import datetime as dt\n",
    "import datetime as dat\n",
    "import re\n",
    "import numpy as np\n",
    "import matplotlib.pyplot as plt\n",
    "import seaborn as sns\n",
    "import os"
   ]
  },
  {
   "cell_type": "code",
   "execution_count": 2,
   "id": "646899ab-ab5e-46f6-b384-384bb25906e1",
   "metadata": {},
   "outputs": [
    {
     "name": "stdout",
     "output_type": "stream",
     "text": [
      "Current working directory is C:\\Users\\cavin\\Documents\\NSS_Projects\\ACCR-project-clj\\accre-carbonara\\notebooks\n"
     ]
    }
   ],
   "source": [
    "print(f'Current working directory is {os.getcwd()}')"
   ]
  },
  {
   "cell_type": "code",
   "execution_count": 3,
   "id": "7b143e60-cf61-4bf7-9834-49adbcace185",
   "metadata": {},
   "outputs": [],
   "source": [
    "jobs = pd.read_csv(\"../data/complete.csv\")"
   ]
  },
  {
   "cell_type": "code",
   "execution_count": 72,
   "id": "23a86dc7-54ba-44ba-8cdd-243808dbde03",
   "metadata": {},
   "outputs": [],
   "source": [
    "ce5 = pd.read_csv('../data/ce5_unresponsive.csv')"
   ]
  },
  {
   "cell_type": "code",
   "execution_count": 74,
   "id": "72581684-2700-4cb5-930d-d2e36b3a7a8c",
   "metadata": {},
   "outputs": [],
   "source": [
    "ce6 = pd.read_csv('../data/ce6_unresponsive.csv')"
   ]
  },
  {
   "cell_type": "code",
   "execution_count": 76,
   "id": "21fc39b8-fb6d-4464-8a2c-9987f5a5324a",
   "metadata": {},
   "outputs": [],
   "source": [
    "jobs['END'] = pd.to_datetime(jobs['END'])\n",
    "jobs['BEGIN'] = pd.to_datetime(jobs['BEGIN'])"
   ]
  },
  {
   "cell_type": "code",
   "execution_count": 86,
   "id": "c2eb694f-f039-4050-b01a-5fe27aa06f14",
   "metadata": {},
   "outputs": [],
   "source": [
    "ce6['END'] = pd.to_datetime(ce6['END']).dt.floor('s')\n",
    "ce5['END'] = pd.to_datetime(ce5['END']).dt.floor('s')"
   ]
  },
  {
   "cell_type": "code",
   "execution_count": 166,
   "id": "fd6ce3f5-47fc-406a-8f30-6ebb4e5266c0",
   "metadata": {},
   "outputs": [],
   "source": [
    "jobs_ce = jobs.loc[(jobs['END'] >= '2020-10-17') & (jobs['END'] <= '2021-10-07')]"
   ]
  },
  {
   "cell_type": "code",
   "execution_count": 162,
   "id": "b95981dc-5697-4b29-b778-315e683c81db",
   "metadata": {},
   "outputs": [],
   "source": [
    "ce56 = pd.concat([ce5, ce6])"
   ]
  },
  {
   "cell_type": "code",
   "execution_count": 182,
   "id": "38d1820e-6783-401b-bc29-975a14ea5c10",
   "metadata": {},
   "outputs": [],
   "source": [
    "jobs_first = jobs_ce.loc[(jobs_ce['END'] >= '2020-10-18 06:16:25') & (jobs_ce['END'] <= '2020-10-18 06:38:44')]"
   ]
  },
  {
   "cell_type": "code",
   "execution_count": 176,
   "id": "54e8384f-369c-4ee5-add3-5943bead270b",
   "metadata": {},
   "outputs": [],
   "source": [
    "ce56_first = ce56.loc[(ce56['END'] >= '2020-10-18 00:00:00') & (ce56['END'] <= '2020-10-18 23:59:59')]"
   ]
  },
  {
   "cell_type": "code",
   "execution_count": null,
   "id": "cacc650e-2bbb-4b8e-a7d0-b679232067fb",
   "metadata": {},
   "outputs": [],
   "source": []
  }
 ],
 "metadata": {
  "kernelspec": {
   "display_name": "Python 3 (ipykernel)",
   "language": "python",
   "name": "python3"
  },
  "language_info": {
   "codemirror_mode": {
    "name": "ipython",
    "version": 3
   },
   "file_extension": ".py",
   "mimetype": "text/x-python",
   "name": "python",
   "nbconvert_exporter": "python",
   "pygments_lexer": "ipython3",
   "version": "3.12.4"
  }
 },
 "nbformat": 4,
 "nbformat_minor": 5
}
